{
 "cells": [
  {
   "cell_type": "markdown",
   "id": "d7ab7399-d5e6-4202-8016-180c19536948",
   "metadata": {},
   "source": [
    "# Objective\n",
    "\n",
    "Interactively experiment with `test_rnn_epoch`, incorporating node labels into graph prediction."
   ]
  },
  {
   "cell_type": "code",
   "execution_count": 1,
   "id": "b8a0fecf-297d-4f58-9497-250c2fad4976",
   "metadata": {},
   "outputs": [
    {
     "name": "stdout",
     "output_type": "stream",
     "text": [
      "/home/alpaca/projects/Comp755-Project-GraphGeneration/GraphRNN\n"
     ]
    }
   ],
   "source": [
    "%cd GraphRNN"
   ]
  },
  {
   "cell_type": "code",
   "execution_count": 2,
   "id": "c5251e57-0f54-4d03-8ba8-6b9a98bf3321",
   "metadata": {},
   "outputs": [
    {
     "name": "stderr",
     "output_type": "stream",
     "text": [
      "/home/alpaca/projects/Comp755-Project-GraphGeneration/conda-env/lib/python3.10/site-packages/tqdm/auto.py:22: TqdmWarning: IProgress not found. Please update jupyter and ipywidgets. See https://ipywidgets.readthedocs.io/en/stable/user_install.html\n",
      "  from .autonotebook import tqdm as notebook_tqdm\n"
     ]
    }
   ],
   "source": [
    "from main import *"
   ]
  },
  {
   "cell_type": "code",
   "execution_count": 3,
   "id": "dc440d66-0c45-4a40-b48c-7dcfee0f5568",
   "metadata": {},
   "outputs": [
    {
     "name": "stdout",
     "output_type": "stream",
     "text": [
      "[graph_type]\n",
      "\n",
      "[max_num_node]\n",
      "\n",
      "[max_prev_node]\n",
      "\n",
      "[hidden_size_rnn_output]\n",
      "\n",
      "[embedding_size_rnn_output]\n",
      "\n",
      "[embedding_size_lstm]\n",
      "\n",
      "[hidden_size]\n",
      "\n",
      "[batch_size]\n",
      "\n",
      "[test_batch_size]\n",
      "\n",
      "[test_total_size]\n",
      "\n",
      "[num_layers]\n",
      "\n",
      "[num_workers]\n",
      "\n",
      "[batch_ratio]\n",
      "\n",
      "[epochs]\n",
      "\n",
      "[epochs_test_start]\n",
      "\n",
      "[epochs_test]\n",
      "\n",
      "[epochs_log]\n",
      "\n",
      "[epochs_save]\n",
      "\n",
      "[lr]\n",
      "\n",
      "[milestones]\n",
      "\n",
      "[lr_rate]\n",
      "\n",
      "[sample_time]\n",
      "\n",
      "[dir_input]\n",
      "\n",
      "[load]\n",
      "\n",
      "[load_epoch]\n",
      "\n",
      "[save]\n",
      "\n",
      "[generator_baseline]\n",
      "\n",
      "[metric_baseline]\n",
      "\n",
      "Valid input file with  ['[graph_type]\\n', '[max_num_node]\\n', '[max_prev_node]\\n', '[hidden_size_rnn_output]\\n', '[embedding_size_rnn_output]\\n', '[embedding_size_lstm]\\n', '[hidden_size]\\n', '[batch_size]\\n', '[test_batch_size]\\n', '[test_total_size]\\n', '[num_layers]\\n', '[num_workers]\\n', '[batch_ratio]\\n', '[epochs]\\n', '[epochs_test_start]\\n', '[epochs_test]\\n', '[epochs_log]\\n', '[epochs_save]\\n', '[lr]\\n', '[milestones]\\n', '[lr_rate]\\n', '[sample_time]\\n', '[dir_input]\\n', '[load]\\n', '[load_epoch]\\n', '[save]\\n', '[generator_baseline]\\n', '[metric_baseline]\\n']\n",
      "Starting args.py...\n"
     ]
    }
   ],
   "source": [
    "args = Args()"
   ]
  },
  {
   "cell_type": "code",
   "execution_count": 4,
   "id": "1b4af0c3-3a67-468d-9e83-633618803676",
   "metadata": {},
   "outputs": [
    {
     "name": "stdout",
     "output_type": "stream",
     "text": [
      "Loading graph dataset: DD\n",
      "Loaded\n"
     ]
    }
   ],
   "source": [
    "G_list = Graph_load_batch(name='DD', node_attributes=False)"
   ]
  },
  {
   "cell_type": "code",
   "execution_count": 5,
   "id": "bebdf16b-f7d1-4ee1-9ff3-7c995ec77417",
   "metadata": {},
   "outputs": [],
   "source": [
    "G_list = [G for G in G_list if nx.number_connected_components(G) == 1]"
   ]
  },
  {
   "cell_type": "code",
   "execution_count": 6,
   "id": "46ce2aa8-cda9-4344-8a5f-95065c79063d",
   "metadata": {},
   "outputs": [
    {
     "name": "stdout",
     "output_type": "stream",
     "text": [
      "calculating max previous node, total iteration: 2000\n",
      "iter 0 times\n",
      "iter 400 times\n",
      "iter 800 times\n",
      "iter 1200 times\n",
      "iter 1600 times\n",
      "max previous node: 216\n"
     ]
    }
   ],
   "source": [
    "dataset = Graph_sequence_sampler_pytorch_nodelabels(G_list, iteration=2000)"
   ]
  },
  {
   "cell_type": "code",
   "execution_count": 7,
   "id": "a052843a-47f5-4794-b007-13fb279a6a4f",
   "metadata": {},
   "outputs": [
    {
     "data": {
      "text/plain": [
       "21"
      ]
     },
     "execution_count": 7,
     "metadata": {},
     "output_type": "execute_result"
    }
   ],
   "source": [
    "# need a way to consolidate into \"unknown\" or \"UNK\" labels\n",
    "dataset.num_node_labels"
   ]
  },
  {
   "cell_type": "code",
   "execution_count": 8,
   "id": "34674135-b76a-472a-b7be-72a0e8d9db0c",
   "metadata": {},
   "outputs": [
    {
     "data": {
      "text/plain": [
       "903"
      ]
     },
     "execution_count": 8,
     "metadata": {},
     "output_type": "execute_result"
    }
   ],
   "source": [
    "dataset.n"
   ]
  },
  {
   "cell_type": "code",
   "execution_count": 9,
   "id": "62b462ed-50b9-439a-aa92-68ea5847e5b0",
   "metadata": {},
   "outputs": [
    {
     "data": {
      "text/plain": [
       "{11: 0,\n",
       " 1: 1,\n",
       " 8: 2,\n",
       " 20: 3,\n",
       " 7: 4,\n",
       " 12: 5,\n",
       " 4: 6,\n",
       " 16: 7,\n",
       " 10: 8,\n",
       " 17: 9,\n",
       " 2: 10,\n",
       " 15: 11,\n",
       " 3: 12,\n",
       " 14: 13,\n",
       " 6: 14,\n",
       " 19: 15,\n",
       " 9: 16,\n",
       " 13: 17,\n",
       " 5: 18,\n",
       " 18: 19,\n",
       " 65: 20,\n",
       " 55: 20,\n",
       " 78: 20,\n",
       " 76: 20,\n",
       " 34: 20,\n",
       " 82: 20,\n",
       " 58: 20,\n",
       " 43: 20,\n",
       " 64: 20,\n",
       " 31: 20,\n",
       " 59: 20,\n",
       " 80: 20,\n",
       " 56: 20,\n",
       " 86: 20,\n",
       " 41: 20,\n",
       " 37: 20,\n",
       " 27: 20,\n",
       " 85: 20,\n",
       " 88: 20,\n",
       " 45: 20,\n",
       " 35: 20,\n",
       " 54: 20,\n",
       " 71: 20,\n",
       " 89: 20,\n",
       " 25: 20,\n",
       " 38: 20,\n",
       " 33: 20,\n",
       " 70: 20,\n",
       " 29: 20,\n",
       " 24: 20,\n",
       " 39: 20,\n",
       " 57: 20,\n",
       " 77: 20,\n",
       " 81: 20,\n",
       " 30: 20,\n",
       " 21: 20,\n",
       " 69: 20,\n",
       " 62: 20,\n",
       " 50: 20,\n",
       " 68: 20,\n",
       " 84: 20,\n",
       " 74: 20,\n",
       " 66: 20,\n",
       " 26: 20,\n",
       " 44: 20,\n",
       " 46: 20,\n",
       " 47: 20,\n",
       " 49: 20,\n",
       " 75: 20,\n",
       " 22: 20,\n",
       " 28: 20,\n",
       " 67: 20,\n",
       " 79: 20,\n",
       " 53: 20,\n",
       " 36: 20,\n",
       " 32: 20}"
      ]
     },
     "execution_count": 9,
     "metadata": {},
     "output_type": "execute_result"
    }
   ],
   "source": [
    "dataset.node_lab_vocab"
   ]
  },
  {
   "cell_type": "code",
   "execution_count": 10,
   "id": "da24066a-5be7-41bd-b408-0e08a40c14a9",
   "metadata": {},
   "outputs": [],
   "source": [
    "sample_strategy = torch.utils.data.sampler.WeightedRandomSampler([1.0 / len(dataset) for i in range(len(dataset))],\n",
    "                                                                     num_samples=10, replacement=True)\n",
    "data_loader = torch.utils.data.DataLoader(dataset, batch_size=10, num_workers=0,\n",
    "                                               sampler=sample_strategy, drop_last=True)"
   ]
  },
  {
   "cell_type": "code",
   "execution_count": 11,
   "id": "e98a2a61-fb33-4e60-8d06-2800990c3b46",
   "metadata": {},
   "outputs": [],
   "source": [
    "data = next(iter(data_loader))"
   ]
  },
  {
   "cell_type": "code",
   "execution_count": 12,
   "id": "d226ed43-62eb-4685-9d5d-ed2a5daea9e8",
   "metadata": {},
   "outputs": [
    {
     "data": {
      "text/plain": [
       "torch.Size([10, 903, 216])"
      ]
     },
     "execution_count": 12,
     "metadata": {},
     "output_type": "execute_result"
    }
   ],
   "source": [
    "data['x'].shape"
   ]
  },
  {
   "cell_type": "code",
   "execution_count": 13,
   "id": "5d5c7f9d-4e60-4671-9062-d8fe3d2c8ec6",
   "metadata": {},
   "outputs": [
    {
     "data": {
      "text/plain": [
       "torch.Size([10, 903, 216])"
      ]
     },
     "execution_count": 13,
     "metadata": {},
     "output_type": "execute_result"
    }
   ],
   "source": [
    "data['y'].shape"
   ]
  },
  {
   "cell_type": "code",
   "execution_count": 14,
   "id": "cb950c42-4b5f-4391-b820-202cf4282b70",
   "metadata": {},
   "outputs": [
    {
     "data": {
      "text/plain": [
       "torch.Size([10, 903, 21])"
      ]
     },
     "execution_count": 14,
     "metadata": {},
     "output_type": "execute_result"
    }
   ],
   "source": [
    "data['labs'].shape"
   ]
  },
  {
   "cell_type": "code",
   "execution_count": 15,
   "id": "3f365930-a21c-4658-ab56-199e5783007a",
   "metadata": {},
   "outputs": [
    {
     "data": {
      "text/plain": [
       "tensor([475, 107, 420, 392, 115, 352, 467, 257, 481, 123])"
      ]
     },
     "execution_count": 15,
     "metadata": {},
     "output_type": "execute_result"
    }
   ],
   "source": [
    "data['len']"
   ]
  },
  {
   "cell_type": "markdown",
   "id": "b6541dcd-cd55-41cb-ab24-e9fed26b180e",
   "metadata": {},
   "source": [
    "# Graph prediction\n",
    "\n",
    "Test code in `test_rnn_epoch_nodelabs`, for graph prediction."
   ]
  },
  {
   "cell_type": "code",
   "execution_count": 16,
   "id": "ce60207a-0da2-47d0-a505-d2e24a00efe0",
   "metadata": {},
   "outputs": [
    {
     "name": "stderr",
     "output_type": "stream",
     "text": [
      "/home/alpaca/projects/Comp755-Project-GraphGeneration/GraphRNN/model.py:319: UserWarning: nn.init.xavier_uniform is now deprecated in favor of nn.init.xavier_uniform_.\n",
      "  nn.init.xavier_uniform(param,gain=nn.init.calculate_gain('sigmoid'))\n",
      "/home/alpaca/projects/Comp755-Project-GraphGeneration/GraphRNN/model.py:317: UserWarning: nn.init.constant is now deprecated in favor of nn.init.constant_.\n",
      "  nn.init.constant(param, 0.25)\n",
      "/home/alpaca/projects/Comp755-Project-GraphGeneration/GraphRNN/model.py:322: UserWarning: nn.init.xavier_uniform is now deprecated in favor of nn.init.xavier_uniform_.\n",
      "  m.weight.data = init.xavier_uniform(m.weight.data, gain=nn.init.calculate_gain('relu'))\n",
      "/home/alpaca/projects/Comp755-Project-GraphGeneration/GraphRNN/model.py:357: UserWarning: nn.init.xavier_uniform is now deprecated in favor of nn.init.xavier_uniform_.\n",
      "  m.weight.data = init.xavier_uniform(m.weight.data, gain=nn.init.calculate_gain('relu'))\n"
     ]
    }
   ],
   "source": [
    "rnn = GRU_plain(\n",
    "    input_size = dataset.max_prev_node, \n",
    "    embedding_size = args.embedding_size_rnn,\n",
    "    hidden_size = args.hidden_size_rnn,\n",
    "    num_layers = args.num_layers, \n",
    "    has_input = True, has_output = True,\n",
    "    output_size = args.hidden_size_rnn_output\n",
    ")         \n",
    "\n",
    "output = GRU_plain(\n",
    "    input_size = 1,\n",
    "    embedding_size = args.embedding_size_rnn_output,\n",
    "    hidden_size = args.hidden_size_rnn_output + args.node_embedding_size,\n",
    "    num_layers = args.num_layers,\n",
    "    has_input = True, has_output = True,\n",
    "    output_size = 1\n",
    ")\n",
    "\n",
    "node_embed = MLP_plain(\n",
    "    h_size = dataset.num_node_labels,\n",
    "    embedding_size = args.node_embedding_size,\n",
    "    y_size = args.node_embedding_size\n",
    ")\n",
    "\n",
    "node_pred = MLP_plain(\n",
    "    h_size = args.hidden_size_rnn_output,\n",
    "    embedding_size = args.node_embedding_size,\n",
    "    y_size = dataset.num_node_labels\n",
    ")"
   ]
  },
  {
   "cell_type": "code",
   "execution_count": 17,
   "id": "fe5fa1bb-4feb-4487-a963-8f5dd42902da",
   "metadata": {},
   "outputs": [],
   "source": [
    "test_batch_size = 16\n",
    "rnn.hidden = Variable(torch.zeros(args.num_layers, test_batch_size, args.hidden_size_rnn))"
   ]
  },
  {
   "cell_type": "code",
   "execution_count": 18,
   "id": "8338ff69-01e3-4396-9b19-4205d5d098e2",
   "metadata": {},
   "outputs": [],
   "source": [
    "max_num_node = 40\n",
    "num_node_labels = 21\n",
    "y_pred_long = Variable(torch.zeros(test_batch_size, max_num_node, dataset.max_prev_node))\n",
    "x_step = Variable(torch.ones(test_batch_size, 1, dataset.max_prev_node))"
   ]
  },
  {
   "cell_type": "code",
   "execution_count": 19,
   "id": "8f288c7a-9fda-4dff-9ed4-87dac28ace9f",
   "metadata": {},
   "outputs": [
    {
     "data": {
      "text/plain": [
       "torch.Size([16, 40, 216])"
      ]
     },
     "execution_count": 19,
     "metadata": {},
     "output_type": "execute_result"
    }
   ],
   "source": [
    "y_pred_long.shape"
   ]
  },
  {
   "cell_type": "code",
   "execution_count": 20,
   "id": "b035e68b-3278-4967-8c44-6a9b27aded6e",
   "metadata": {},
   "outputs": [
    {
     "data": {
      "text/plain": [
       "torch.Size([16, 1, 216])"
      ]
     },
     "execution_count": 20,
     "metadata": {},
     "output_type": "execute_result"
    }
   ],
   "source": [
    "x_step.shape"
   ]
  },
  {
   "cell_type": "code",
   "execution_count": 21,
   "id": "f847b23d-469b-4d83-806b-98c57f326347",
   "metadata": {},
   "outputs": [],
   "source": [
    "def sample_sigmoid_nocuda(y, sample, thresh=0.5, sample_time=2):\n",
    "    '''\n",
    "        do sampling over unnormalized score\n",
    "    :param y: input\n",
    "    :param sample: Bool\n",
    "    :param thresh: if not sample, the threshold\n",
    "    :param sampe_time: how many times do we sample, if =1, do single sample\n",
    "    :return: sampled result\n",
    "    '''\n",
    "\n",
    "    # do sigmoid first\n",
    "    y = F.sigmoid(y)\n",
    "    # do sampling\n",
    "    if sample:\n",
    "        if sample_time>1:\n",
    "            y_result = Variable(torch.rand(y.size(0),y.size(1),y.size(2)))\n",
    "            # loop over all batches\n",
    "            for i in range(y_result.size(0)):\n",
    "                # do 'multi_sample' times sampling\n",
    "                for j in range(sample_time):\n",
    "                    y_thresh = Variable(torch.rand(y.size(1), y.size(2)))\n",
    "                    y_result[i] = torch.gt(y[i], y_thresh).float()\n",
    "                    if (torch.sum(y_result[i]).data>0).any():\n",
    "                        break\n",
    "                    # else:\n",
    "                    #     print('all zero',j)\n",
    "        else:\n",
    "            y_thresh = Variable(torch.rand(y.size(0),y.size(1),y.size(2)))\n",
    "            y_result = torch.gt(y,y_thresh).float()\n",
    "    # do max likelihood based on some threshold\n",
    "    else:\n",
    "        y_thresh = Variable(torch.ones(y.size(0), y.size(1), y.size(2))*thresh)\n",
    "        y_result = torch.gt(y, y_thresh).float()\n",
    "    return y_result"
   ]
  },
  {
   "cell_type": "code",
   "execution_count": 22,
   "id": "6185c80a-d481-4d89-8e92-003ea1f233e3",
   "metadata": {},
   "outputs": [],
   "source": [
    "def sample_softmax(y):\n",
    "    \"\"\"Select a single class sample from an array of logits.\"\"\"\n",
    "    \n",
    "    y = F.softmax(y, dim = -1)  # softmax on logits for each batch, in last dim\n",
    "    y_numpy = y.detach().numpy().squeeze()\n",
    "    # print(y_numpy)\n",
    "    y_result = Variable(torch.zeros(*y.shape))\n",
    "    \n",
    "    # loop over batches\n",
    "    for i in range(y.size(0)):\n",
    "        j = np.random.choice(np.arange(y.size(-1)), size = 1, p = y_numpy[i, :])\n",
    "        y_result[i, :, j] = 1.\n",
    "    \n",
    "    return y_result"
   ]
  },
  {
   "cell_type": "code",
   "execution_count": 23,
   "id": "1a07c569-9851-43ed-87b4-07127f3b3b9b",
   "metadata": {},
   "outputs": [],
   "source": [
    "h = rnn(x_step)"
   ]
  },
  {
   "cell_type": "code",
   "execution_count": 24,
   "id": "1ce38faa-57cd-45c7-9637-a0b6a793420e",
   "metadata": {},
   "outputs": [],
   "source": [
    "lab_pred = node_pred(h)\n",
    "lab_pred = sample_softmax(lab_pred)"
   ]
  },
  {
   "cell_type": "code",
   "execution_count": 25,
   "id": "597f355b-0671-4f41-a1e8-4e13d115fd73",
   "metadata": {},
   "outputs": [],
   "source": [
    "lab_embedded = node_embed(lab_pred)"
   ]
  },
  {
   "cell_type": "code",
   "execution_count": 26,
   "id": "55369d90-4663-49fc-9516-066ac3b18ab1",
   "metadata": {},
   "outputs": [],
   "source": [
    "hcat = torch.cat((h, lab_embedded), dim = -1)"
   ]
  },
  {
   "cell_type": "code",
   "execution_count": 27,
   "id": "b12e576a-d136-43f6-9123-dac4b713c9b7",
   "metadata": {},
   "outputs": [],
   "source": [
    "hidden_null = Variable(torch.zeros(args.num_layers-1, hcat.size(0), hcat.size(2)))"
   ]
  },
  {
   "cell_type": "code",
   "execution_count": 28,
   "id": "05e1de65-31ea-497c-ac6b-a904d511b5e3",
   "metadata": {},
   "outputs": [],
   "source": [
    "output.hidden = torch.cat((hcat.permute(1,0,2), hidden_null), dim=0)"
   ]
  },
  {
   "cell_type": "code",
   "execution_count": 29,
   "id": "768d761a-5a7e-4b8c-994c-901d88099c8c",
   "metadata": {},
   "outputs": [
    {
     "name": "stderr",
     "output_type": "stream",
     "text": [
      "/home/alpaca/projects/Comp755-Project-GraphGeneration/conda-env/lib/python3.10/site-packages/torch/nn/functional.py:1960: UserWarning: nn.functional.sigmoid is deprecated. Use torch.sigmoid instead.\n",
      "  warnings.warn(\"nn.functional.sigmoid is deprecated. Use torch.sigmoid instead.\")\n"
     ]
    }
   ],
   "source": [
    "# now we generate edges for each node predicted so far. \n",
    "# Let's pretend that we have generated 10 nodes, so there are 10 edges to predict.\n",
    "\n",
    "x_step = Variable(torch.zeros(test_batch_size, 1, dataset.max_prev_node))\n",
    "output_x_step = Variable(torch.ones(test_batch_size, 1, 1))\n",
    "for j in range(min(dataset.max_prev_node, 10)):\n",
    "            output_y_pred_step = output(output_x_step)\n",
    "            output_x_step = sample_sigmoid_nocuda(output_y_pred_step, sample=True, sample_time=1)\n",
    "            x_step[:,:,j:j+1] = output_x_step\n",
    "            output.hidden = Variable(output.hidden.data)"
   ]
  },
  {
   "cell_type": "code",
   "execution_count": 30,
   "id": "e20cc8a5-1ed4-443b-be6c-7af489748b98",
   "metadata": {},
   "outputs": [
    {
     "data": {
      "text/plain": [
       "tensor([[[1., 0., 0., 0., 0., 1., 1., 0., 0.]],\n",
       "\n",
       "        [[1., 0., 0., 0., 1., 0., 1., 1., 1.]],\n",
       "\n",
       "        [[1., 0., 1., 1., 1., 0., 0., 1., 0.]],\n",
       "\n",
       "        [[0., 1., 0., 0., 0., 1., 1., 0., 0.]],\n",
       "\n",
       "        [[1., 0., 0., 1., 1., 0., 0., 0., 0.]],\n",
       "\n",
       "        [[0., 1., 0., 1., 1., 0., 0., 1., 1.]],\n",
       "\n",
       "        [[0., 1., 1., 1., 0., 1., 1., 0., 0.]],\n",
       "\n",
       "        [[1., 0., 0., 0., 0., 0., 0., 0., 1.]],\n",
       "\n",
       "        [[0., 0., 0., 0., 1., 0., 0., 0., 0.]],\n",
       "\n",
       "        [[1., 1., 0., 0., 1., 1., 0., 0., 0.]],\n",
       "\n",
       "        [[1., 0., 0., 0., 0., 0., 0., 0., 0.]],\n",
       "\n",
       "        [[1., 0., 0., 0., 0., 1., 0., 1., 1.]],\n",
       "\n",
       "        [[1., 1., 0., 0., 1., 0., 1., 1., 1.]],\n",
       "\n",
       "        [[1., 1., 0., 0., 1., 0., 0., 1., 0.]],\n",
       "\n",
       "        [[1., 0., 0., 0., 0., 0., 0., 0., 0.]],\n",
       "\n",
       "        [[0., 0., 0., 1., 1., 0., 0., 0., 0.]]])"
      ]
     },
     "execution_count": 30,
     "metadata": {},
     "output_type": "execute_result"
    }
   ],
   "source": [
    "# check to make sure we got edges.\n",
    "x_step[:, :, 0:9]"
   ]
  },
  {
   "cell_type": "code",
   "execution_count": 31,
   "id": "d105ce54-1d8e-473c-8b29-d80bcc9b7728",
   "metadata": {},
   "outputs": [],
   "source": [
    "y_pred_long[:, 0:1, :] = x_step"
   ]
  },
  {
   "cell_type": "code",
   "execution_count": 32,
   "id": "a7055d10-73f8-4597-ad55-128a92f40dd3",
   "metadata": {},
   "outputs": [],
   "source": [
    "rnn.hidden = Variable(rnn.hidden.data)"
   ]
  },
  {
   "cell_type": "code",
   "execution_count": 33,
   "id": "8f6c3a5a-f1be-407d-a4d6-629dbf177797",
   "metadata": {},
   "outputs": [],
   "source": [
    "y_pred_long_data = y_pred_long.data.long()"
   ]
  },
  {
   "cell_type": "code",
   "execution_count": 34,
   "id": "d4696d72-4138-4740-841f-d4bb4e0718b7",
   "metadata": {},
   "outputs": [
    {
     "data": {
      "text/plain": [
       "tensor([[[1, 0, 0,  ..., 0, 0, 0],\n",
       "         [0, 0, 0,  ..., 0, 0, 0],\n",
       "         [0, 0, 0,  ..., 0, 0, 0],\n",
       "         ...,\n",
       "         [0, 0, 0,  ..., 0, 0, 0],\n",
       "         [0, 0, 0,  ..., 0, 0, 0],\n",
       "         [0, 0, 0,  ..., 0, 0, 0]],\n",
       "\n",
       "        [[1, 0, 0,  ..., 0, 0, 0],\n",
       "         [0, 0, 0,  ..., 0, 0, 0],\n",
       "         [0, 0, 0,  ..., 0, 0, 0],\n",
       "         ...,\n",
       "         [0, 0, 0,  ..., 0, 0, 0],\n",
       "         [0, 0, 0,  ..., 0, 0, 0],\n",
       "         [0, 0, 0,  ..., 0, 0, 0]],\n",
       "\n",
       "        [[1, 0, 1,  ..., 0, 0, 0],\n",
       "         [0, 0, 0,  ..., 0, 0, 0],\n",
       "         [0, 0, 0,  ..., 0, 0, 0],\n",
       "         ...,\n",
       "         [0, 0, 0,  ..., 0, 0, 0],\n",
       "         [0, 0, 0,  ..., 0, 0, 0],\n",
       "         [0, 0, 0,  ..., 0, 0, 0]],\n",
       "\n",
       "        ...,\n",
       "\n",
       "        [[1, 1, 0,  ..., 0, 0, 0],\n",
       "         [0, 0, 0,  ..., 0, 0, 0],\n",
       "         [0, 0, 0,  ..., 0, 0, 0],\n",
       "         ...,\n",
       "         [0, 0, 0,  ..., 0, 0, 0],\n",
       "         [0, 0, 0,  ..., 0, 0, 0],\n",
       "         [0, 0, 0,  ..., 0, 0, 0]],\n",
       "\n",
       "        [[1, 0, 0,  ..., 0, 0, 0],\n",
       "         [0, 0, 0,  ..., 0, 0, 0],\n",
       "         [0, 0, 0,  ..., 0, 0, 0],\n",
       "         ...,\n",
       "         [0, 0, 0,  ..., 0, 0, 0],\n",
       "         [0, 0, 0,  ..., 0, 0, 0],\n",
       "         [0, 0, 0,  ..., 0, 0, 0]],\n",
       "\n",
       "        [[0, 0, 0,  ..., 0, 0, 0],\n",
       "         [0, 0, 0,  ..., 0, 0, 0],\n",
       "         [0, 0, 0,  ..., 0, 0, 0],\n",
       "         ...,\n",
       "         [0, 0, 0,  ..., 0, 0, 0],\n",
       "         [0, 0, 0,  ..., 0, 0, 0],\n",
       "         [0, 0, 0,  ..., 0, 0, 0]]])"
      ]
     },
     "execution_count": 34,
     "metadata": {},
     "output_type": "execute_result"
    }
   ],
   "source": [
    "y_pred_long_data"
   ]
  },
  {
   "cell_type": "markdown",
   "id": "328e3345-23d3-42f8-9c98-7480d5362477",
   "metadata": {},
   "source": [
    "### Predict entire graphs\n",
    "\n",
    "Now run the whole outer for loop:"
   ]
  },
  {
   "cell_type": "code",
   "execution_count": 35,
   "id": "a0054879-04a1-4903-82bb-553c22011234",
   "metadata": {},
   "outputs": [],
   "source": [
    "max_num_node = int(max_num_node)\n",
    "y_pred_long = Variable(\n",
    "    torch.zeros(test_batch_size, max_num_node, dataset.max_prev_node)\n",
    ")# discrete prediction\n",
    "labs_pred_long = Variable(\n",
    "    torch.zeros(test_batch_size, max_num_node, dataset.num_node_labels)\n",
    ")\n",
    "\n",
    "for i in range(max_num_node):\n",
    "    h = rnn(x_step)\n",
    "    lab_pred = node_pred(h)\n",
    "    lab_pred = sample_softmax(lab_pred)\n",
    "    lab_embedded = node_embed(lab_pred)\n",
    "    hcat = torch.cat((h, lab_embedded), dim = -1)\n",
    "\n",
    "    # output.hidden = h.permute(1,0,2)\n",
    "    hidden_null = Variable(\n",
    "        torch.zeros(args.num_layers - 1, hcat.size(0), hcat.size(2))\n",
    "    )\n",
    "    output.hidden = torch.cat((hcat.permute(1,0,2), hidden_null), dim=0)  # num_layers, batch_size, hidden_size\n",
    "    x_step = Variable(torch.zeros(test_batch_size,1,dataset.max_prev_node))\n",
    "    output_x_step = Variable(torch.ones(test_batch_size,1,1))\n",
    "    for j in range(min(dataset.max_prev_node,i+1)):\n",
    "        output_y_pred_step = output(output_x_step)\n",
    "        output_x_step = sample_sigmoid_nocuda(output_y_pred_step, sample=True, sample_time=1)\n",
    "        x_step[:,:,j:j+1] = output_x_step\n",
    "        output.hidden = Variable(output.hidden.data)\n",
    "    y_pred_long[:, i:i + 1, :] = x_step\n",
    "    labs_pred_long[:, i:i+1, :] = lab_pred\n",
    "    rnn.hidden = Variable(rnn.hidden.data)\n",
    "y_pred_long_data = y_pred_long.data.long()\n",
    "labs_pred_long_data = labs_pred_long.data.long()"
   ]
  },
  {
   "cell_type": "code",
   "execution_count": 36,
   "id": "c65ad4cd-7902-4423-8873-5eec29714104",
   "metadata": {},
   "outputs": [
    {
     "data": {
      "text/plain": [
       "torch.Size([16, 40, 216])"
      ]
     },
     "execution_count": 36,
     "metadata": {},
     "output_type": "execute_result"
    }
   ],
   "source": [
    "y_pred_long_data.shape"
   ]
  },
  {
   "cell_type": "code",
   "execution_count": 37,
   "id": "f173975a-be13-4ca2-8f93-152a813b2f6b",
   "metadata": {},
   "outputs": [
    {
     "data": {
      "text/plain": [
       "torch.Size([16, 40, 21])"
      ]
     },
     "execution_count": 37,
     "metadata": {},
     "output_type": "execute_result"
    }
   ],
   "source": [
    "labs_pred_long_data.shape"
   ]
  },
  {
   "cell_type": "code",
   "execution_count": 38,
   "id": "8fa57767-f0e9-4943-a633-a314635b36d5",
   "metadata": {},
   "outputs": [
    {
     "data": {
      "text/plain": [
       "tensor([[0, 0, 0,  ..., 0, 0, 0],\n",
       "        [0, 1, 1,  ..., 0, 0, 0],\n",
       "        [0, 0, 0,  ..., 0, 0, 0],\n",
       "        ...,\n",
       "        [0, 1, 0,  ..., 0, 0, 0],\n",
       "        [0, 0, 1,  ..., 0, 0, 0],\n",
       "        [0, 0, 1,  ..., 0, 0, 0]])"
      ]
     },
     "execution_count": 38,
     "metadata": {},
     "output_type": "execute_result"
    }
   ],
   "source": [
    "y_pred_long_data[:, -1, :]"
   ]
  },
  {
   "cell_type": "markdown",
   "id": "26d905b7-50f9-44eb-9647-08e3278657b3",
   "metadata": {},
   "source": [
    "It works!!"
   ]
  },
  {
   "cell_type": "markdown",
   "id": "c2e98706-5562-4f24-96f0-7f320cfdbba0",
   "metadata": {},
   "source": [
    "### Saving graphs"
   ]
  },
  {
   "cell_type": "code",
   "execution_count": 46,
   "id": "c4089f6d-266a-469c-881b-ba4a0344e7fd",
   "metadata": {},
   "outputs": [],
   "source": [
    "G_pred_list = []\n",
    "for i in range(test_batch_size):\n",
    "    adj_pred = decode_adj(y_pred_long_data[i].detach().numpy())\n",
    "    labs_decoded = decode_node_labels(labs_pred_long_data[i].detach().numpy(), dataset.reverse_vocabulary())\n",
    "    G_pred = get_graph(adj_pred)\n",
    "    G_pred.remove_node(0)  # remove first node since it does not have a label\n",
    "    for node in G_pred.nodes:\n",
    "        G_pred.nodes[node]['label'] = labs_decoded[node-1]\n",
    "    G_pred_list.append(G_pred)"
   ]
  },
  {
   "cell_type": "code",
   "execution_count": null,
   "id": "26f2fa5b-196b-4202-954d-fc73a47b272b",
   "metadata": {},
   "outputs": [],
   "source": []
  }
 ],
 "metadata": {
  "kernelspec": {
   "display_name": "Python 3 (ipykernel)",
   "language": "python",
   "name": "python3"
  },
  "language_info": {
   "codemirror_mode": {
    "name": "ipython",
    "version": 3
   },
   "file_extension": ".py",
   "mimetype": "text/x-python",
   "name": "python",
   "nbconvert_exporter": "python",
   "pygments_lexer": "ipython3",
   "version": "3.10.6"
  }
 },
 "nbformat": 4,
 "nbformat_minor": 5
}
