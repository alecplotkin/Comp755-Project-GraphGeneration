{
 "cells": [
  {
   "cell_type": "markdown",
   "id": "d7ab7399-d5e6-4202-8016-180c19536948",
   "metadata": {},
   "source": [
    "# Objective\n",
    "\n",
    "Interactively experiment with the graph dataloader, and test whether there is a good way to load graph attributes."
   ]
  },
  {
   "cell_type": "code",
   "execution_count": 1,
   "id": "b8a0fecf-297d-4f58-9497-250c2fad4976",
   "metadata": {},
   "outputs": [
    {
     "name": "stdout",
     "output_type": "stream",
     "text": [
      "/home/alpaca/projects/Comp755-Project-GraphGeneration/GraphRNN\n"
     ]
    }
   ],
   "source": [
    "%cd GraphRNN"
   ]
  },
  {
   "cell_type": "code",
   "execution_count": 2,
   "id": "c5251e57-0f54-4d03-8ba8-6b9a98bf3321",
   "metadata": {},
   "outputs": [],
   "source": [
    "from main import *"
   ]
  },
  {
   "cell_type": "code",
   "execution_count": 3,
   "id": "dc440d66-0c45-4a40-b48c-7dcfee0f5568",
   "metadata": {},
   "outputs": [],
   "source": [
    "args = Args()"
   ]
  },
  {
   "cell_type": "code",
   "execution_count": 4,
   "id": "1b4af0c3-3a67-468d-9e83-633618803676",
   "metadata": {},
   "outputs": [
    {
     "name": "stdout",
     "output_type": "stream",
     "text": [
      "Loading graph dataset: DD\n",
      "Loaded\n"
     ]
    }
   ],
   "source": [
    "G_list = Graph_load_batch(name='DD', node_attributes=False)"
   ]
  },
  {
   "cell_type": "code",
   "execution_count": 5,
   "id": "bebdf16b-f7d1-4ee1-9ff3-7c995ec77417",
   "metadata": {},
   "outputs": [],
   "source": [
    "G_list = [G for G in G_list if nx.number_connected_components(G) == 1]"
   ]
  },
  {
   "cell_type": "code",
   "execution_count": 6,
   "id": "46ce2aa8-cda9-4344-8a5f-95065c79063d",
   "metadata": {},
   "outputs": [
    {
     "name": "stdout",
     "output_type": "stream",
     "text": [
      "calculating max previous node, total iteration: 2000\n",
      "iter 0 times\n",
      "iter 400 times\n",
      "iter 800 times\n",
      "iter 1200 times\n",
      "iter 1600 times\n",
      "max previous node: 181\n"
     ]
    }
   ],
   "source": [
    "dataset = Graph_sequence_sampler_pytorch_nodelabels(G_list, iteration=2000)"
   ]
  },
  {
   "cell_type": "code",
   "execution_count": 7,
   "id": "a052843a-47f5-4794-b007-13fb279a6a4f",
   "metadata": {},
   "outputs": [
    {
     "data": {
      "text/plain": [
       "21"
      ]
     },
     "execution_count": 7,
     "metadata": {},
     "output_type": "execute_result"
    }
   ],
   "source": [
    "# need a way to consolidate into \"unknown\" or \"UNK\" labels\n",
    "dataset.num_node_labels"
   ]
  },
  {
   "cell_type": "code",
   "execution_count": 8,
   "id": "34674135-b76a-472a-b7be-72a0e8d9db0c",
   "metadata": {},
   "outputs": [
    {
     "data": {
      "text/plain": [
       "903"
      ]
     },
     "execution_count": 8,
     "metadata": {},
     "output_type": "execute_result"
    }
   ],
   "source": [
    "dataset.n"
   ]
  },
  {
   "cell_type": "code",
   "execution_count": 9,
   "id": "62b462ed-50b9-439a-aa92-68ea5847e5b0",
   "metadata": {},
   "outputs": [
    {
     "data": {
      "text/plain": [
       "{11: 0,\n",
       " 1: 1,\n",
       " 8: 2,\n",
       " 20: 3,\n",
       " 7: 4,\n",
       " 12: 5,\n",
       " 4: 6,\n",
       " 16: 7,\n",
       " 10: 8,\n",
       " 17: 9,\n",
       " 2: 10,\n",
       " 15: 11,\n",
       " 3: 12,\n",
       " 14: 13,\n",
       " 6: 14,\n",
       " 19: 15,\n",
       " 9: 16,\n",
       " 13: 17,\n",
       " 5: 18,\n",
       " 18: 19,\n",
       " 65: 20,\n",
       " 55: 20,\n",
       " 78: 20,\n",
       " 76: 20,\n",
       " 34: 20,\n",
       " 82: 20,\n",
       " 58: 20,\n",
       " 43: 20,\n",
       " 64: 20,\n",
       " 31: 20,\n",
       " 59: 20,\n",
       " 80: 20,\n",
       " 56: 20,\n",
       " 86: 20,\n",
       " 41: 20,\n",
       " 37: 20,\n",
       " 27: 20,\n",
       " 85: 20,\n",
       " 88: 20,\n",
       " 45: 20,\n",
       " 35: 20,\n",
       " 54: 20,\n",
       " 71: 20,\n",
       " 89: 20,\n",
       " 25: 20,\n",
       " 38: 20,\n",
       " 33: 20,\n",
       " 70: 20,\n",
       " 29: 20,\n",
       " 24: 20,\n",
       " 39: 20,\n",
       " 57: 20,\n",
       " 77: 20,\n",
       " 81: 20,\n",
       " 30: 20,\n",
       " 21: 20,\n",
       " 69: 20,\n",
       " 62: 20,\n",
       " 50: 20,\n",
       " 68: 20,\n",
       " 84: 20,\n",
       " 74: 20,\n",
       " 66: 20,\n",
       " 26: 20,\n",
       " 44: 20,\n",
       " 46: 20,\n",
       " 47: 20,\n",
       " 49: 20,\n",
       " 75: 20,\n",
       " 22: 20,\n",
       " 28: 20,\n",
       " 67: 20,\n",
       " 79: 20,\n",
       " 53: 20,\n",
       " 36: 20,\n",
       " 32: 20}"
      ]
     },
     "execution_count": 9,
     "metadata": {},
     "output_type": "execute_result"
    }
   ],
   "source": [
    "dataset.node_lab_vocab"
   ]
  },
  {
   "cell_type": "code",
   "execution_count": 10,
   "id": "308866df-f1fe-4fd9-a031-803d7055aea9",
   "metadata": {},
   "outputs": [
    {
     "data": {
      "text/plain": [
       "False"
      ]
     },
     "execution_count": 10,
     "metadata": {},
     "output_type": "execute_result"
    }
   ],
   "source": [
    "# check if all node labels are correctly one-hot-encoded\n",
    "all([np.all(dataset[i]['labs'].sum(axis=1) == 1) for i in range(len(dataset))])"
   ]
  },
  {
   "cell_type": "code",
   "execution_count": 11,
   "id": "da24066a-5be7-41bd-b408-0e08a40c14a9",
   "metadata": {},
   "outputs": [],
   "source": [
    "sample_strategy = torch.utils.data.sampler.WeightedRandomSampler([1.0 / len(dataset) for i in range(len(dataset))],\n",
    "                                                                     num_samples=10, replacement=True)\n",
    "data_loader = torch.utils.data.DataLoader(dataset, batch_size=10, num_workers=0,\n",
    "                                               sampler=sample_strategy, drop_last=True)"
   ]
  },
  {
   "cell_type": "code",
   "execution_count": 12,
   "id": "e98a2a61-fb33-4e60-8d06-2800990c3b46",
   "metadata": {},
   "outputs": [],
   "source": [
    "data = next(iter(data_loader))"
   ]
  },
  {
   "cell_type": "code",
   "execution_count": 13,
   "id": "d226ed43-62eb-4685-9d5d-ed2a5daea9e8",
   "metadata": {},
   "outputs": [
    {
     "data": {
      "text/plain": [
       "torch.Size([10, 903, 181])"
      ]
     },
     "execution_count": 13,
     "metadata": {},
     "output_type": "execute_result"
    }
   ],
   "source": [
    "data['x'].shape"
   ]
  },
  {
   "cell_type": "code",
   "execution_count": 14,
   "id": "5d5c7f9d-4e60-4671-9062-d8fe3d2c8ec6",
   "metadata": {},
   "outputs": [
    {
     "data": {
      "text/plain": [
       "torch.Size([10, 903, 181])"
      ]
     },
     "execution_count": 14,
     "metadata": {},
     "output_type": "execute_result"
    }
   ],
   "source": [
    "data['y'].shape"
   ]
  },
  {
   "cell_type": "code",
   "execution_count": 15,
   "id": "cb950c42-4b5f-4391-b820-202cf4282b70",
   "metadata": {},
   "outputs": [
    {
     "data": {
      "text/plain": [
       "torch.Size([10, 903, 21])"
      ]
     },
     "execution_count": 15,
     "metadata": {},
     "output_type": "execute_result"
    }
   ],
   "source": [
    "data['labs'].shape"
   ]
  },
  {
   "cell_type": "code",
   "execution_count": 16,
   "id": "3f365930-a21c-4658-ab56-199e5783007a",
   "metadata": {},
   "outputs": [
    {
     "data": {
      "text/plain": [
       "tensor([469, 218, 338, 180, 636, 435, 148, 305, 320, 336])"
      ]
     },
     "execution_count": 16,
     "metadata": {},
     "output_type": "execute_result"
    }
   ],
   "source": [
    "data['len']"
   ]
  },
  {
   "cell_type": "markdown",
   "id": "ff6f6c82-e83c-4fef-9805-36d878b2e439",
   "metadata": {},
   "source": [
    "# Test training code\n",
    "\n",
    "Recreate code in `train_rnn_epoch_nodelabs` in jupyter notebook, to aid in debugging."
   ]
  },
  {
   "cell_type": "code",
   "execution_count": null,
   "id": "303ffa5a-58a6-41fc-b79c-9a3fada9f308",
   "metadata": {},
   "outputs": [
    {
     "name": "stderr",
     "output_type": "stream",
     "text": [
      "/home/alpaca/projects/Comp755-Project-GraphGeneration/GraphRNN/model.py:299: UserWarning: nn.init.xavier_uniform is now deprecated in favor of nn.init.xavier_uniform_.\n",
      "  nn.init.xavier_uniform(param,gain=nn.init.calculate_gain('sigmoid'))\n",
      "/home/alpaca/projects/Comp755-Project-GraphGeneration/GraphRNN/model.py:297: UserWarning: nn.init.constant is now deprecated in favor of nn.init.constant_.\n",
      "  nn.init.constant(param, 0.25)\n",
      "/home/alpaca/projects/Comp755-Project-GraphGeneration/GraphRNN/model.py:302: UserWarning: nn.init.xavier_uniform is now deprecated in favor of nn.init.xavier_uniform_.\n",
      "  m.weight.data = init.xavier_uniform(m.weight.data, gain=nn.init.calculate_gain('relu'))\n",
      "/home/alpaca/projects/Comp755-Project-GraphGeneration/GraphRNN/model.py:337: UserWarning: nn.init.xavier_uniform is now deprecated in favor of nn.init.xavier_uniform_.\n",
      "  m.weight.data = init.xavier_uniform(m.weight.data, gain=nn.init.calculate_gain('relu'))\n"
     ]
    }
   ],
   "source": [
    "rnn = GRU_plain(\n",
    "    input_size = dataset.max_prev_node, \n",
    "    embedding_size = args.embedding_size_rnn,\n",
    "    hidden_size = args.hidden_size_rnn,\n",
    "    num_layers = args.num_layers, \n",
    "    has_input = True, has_output = True,\n",
    "    output_size = args.hidden_size_rnn_output\n",
    ")         \n",
    "\n",
    "output = GRU_plain(\n",
    "    input_size = 1,\n",
    "    embedding_size = args.embedding_size_rnn_output,\n",
    "    hidden_size = args.hidden_size_rnn_output + args.node_embedding_size,\n",
    "    num_layers = args.num_layers,\n",
    "    has_input = True, has_output = True,\n",
    "    output_size = 1\n",
    ")\n",
    "\n",
    "node_embed = MLP_plain(\n",
    "    h_size = dataset.num_node_labels,\n",
    "    embedding_size = args.node_embedding_size,\n",
    "    y_size = args.node_embedding_size\n",
    ")\n",
    "\n",
    "node_pred = MLP_plain(\n",
    "    h_size = args.hidden_size_rnn_output,\n",
    "    embedding_size = args.node_embedding_size,\n",
    "    y_size = dataset.num_node_labels\n",
    ")"
   ]
  },
  {
   "cell_type": "markdown",
   "id": "b9392b37-5059-47f6-8ed9-dfd3fbe5a937",
   "metadata": {},
   "source": [
    "Now run through a single iteration of the training (batch) for loop, testing to make sure the code works."
   ]
  },
  {
   "cell_type": "code",
   "execution_count": 18,
   "id": "403d59bc-203e-435f-9c2e-0de8ee629f79",
   "metadata": {},
   "outputs": [],
   "source": [
    "x_unsorted = data['x'].float()\n",
    "y_unsorted = data['y'].float()\n",
    "labs_unsorted = data['labs'].float()\n",
    "y_len_unsorted = data['len']"
   ]
  },
  {
   "cell_type": "code",
   "execution_count": 19,
   "id": "c07eb627-079d-4a08-830d-0908ddf79ce4",
   "metadata": {},
   "outputs": [],
   "source": [
    "y_len_max = max(y_len_unsorted)\n",
    "x_unsorted = x_unsorted[:, 0:y_len_max, :]\n",
    "y_unsorted = y_unsorted[:, 0:y_len_max, :]\n",
    "labs_unsorted = labs_unsorted[:, 0:y_len_max, :]"
   ]
  },
  {
   "cell_type": "code",
   "execution_count": 20,
   "id": "ad02a697-7992-42f7-b1ef-9e5cd62cee7e",
   "metadata": {},
   "outputs": [],
   "source": [
    "# throws an error b/c no GPU, however can continue testing without this step.\n",
    "# rnn.hidden = rnn.init_hidden(batch_size = x_unsorted.size(0))"
   ]
  },
  {
   "cell_type": "code",
   "execution_count": 21,
   "id": "ddc62221-406a-4a63-84b0-f34278a30bad",
   "metadata": {},
   "outputs": [],
   "source": [
    "y_len, sort_index = torch.sort(y_len_unsorted, 0, descending = True)\n",
    "y_len = y_len.numpy().tolist()\n",
    "x = torch.index_select(x_unsorted, 0, sort_index)\n",
    "y = torch.index_select(y_unsorted, 0, sort_index)\n",
    "labs = torch.index_select(labs_unsorted, 0, sort_index)"
   ]
  },
  {
   "cell_type": "code",
   "execution_count": 22,
   "id": "46e6d1c2-68c9-4b94-ae3b-fa468fb57533",
   "metadata": {},
   "outputs": [],
   "source": [
    "y_reshape = pack_padded_sequence(y, y_len, batch_first = True).data\n",
    "labs_reshape = pack_padded_sequence(labs, y_len, batch_first = True).data\n",
    "idx = [i for i in range(y_reshape.size(0)-1, -1, -1)]\n",
    "idx = torch.LongTensor(idx)\n",
    "y_reshape = y_reshape.index_select(0, idx)\n",
    "labs_reshape = labs_reshape.index_select(0, idx)\n",
    "y_reshape = y_reshape.view(*y_reshape.shape, 1)"
   ]
  },
  {
   "cell_type": "code",
   "execution_count": 23,
   "id": "f1b88132-d701-4665-b184-e711a803fe9d",
   "metadata": {},
   "outputs": [],
   "source": [
    "output_x = torch.cat(\n",
    "    (torch.ones(y_reshape.size(0), 1, 1), y_reshape[:, 0:-1, 0:1]),\n",
    "    dim = 1\n",
    ")\n",
    "output_y = y_reshape\n",
    "output_labs = labs_reshape"
   ]
  },
  {
   "cell_type": "code",
   "execution_count": 24,
   "id": "c97b8585-f0ab-4290-9b28-ca83eaf3b4c7",
   "metadata": {},
   "outputs": [
    {
     "data": {
      "text/plain": [
       "torch.Size([3385, 181, 1])"
      ]
     },
     "execution_count": 24,
     "metadata": {},
     "output_type": "execute_result"
    }
   ],
   "source": [
    "output_x.shape"
   ]
  },
  {
   "cell_type": "code",
   "execution_count": 25,
   "id": "fb6ba115-1ffd-4e05-a68d-b170c86f8102",
   "metadata": {},
   "outputs": [
    {
     "data": {
      "text/plain": [
       "torch.Size([3385, 181, 1])"
      ]
     },
     "execution_count": 25,
     "metadata": {},
     "output_type": "execute_result"
    }
   ],
   "source": [
    "output_y.shape"
   ]
  },
  {
   "cell_type": "code",
   "execution_count": 26,
   "id": "1ca3403f-9e70-4a96-a120-66587cf9673c",
   "metadata": {},
   "outputs": [],
   "source": [
    "output_y_len = []\n",
    "output_y_len_bin = np.bincount(np.array(y_len))\n",
    "for i in range(len(output_y_len_bin)-1, 0, -1):\n",
    "    count_temp = np.sum(output_y_len_bin[i:])\n",
    "    output_y_len.extend([min(i, y.size(2))]*count_temp)"
   ]
  },
  {
   "cell_type": "code",
   "execution_count": 27,
   "id": "97a37fc4-17d8-439f-8bb5-43a54ef429d4",
   "metadata": {},
   "outputs": [],
   "source": [
    "x = Variable(x)\n",
    "y = Variable(y)\n",
    "labs = Variable(labs)\n",
    "output_x = Variable(output_x)\n",
    "output_y = Variable(output_y)\n",
    "output_labs = Variable(output_labs)"
   ]
  },
  {
   "cell_type": "code",
   "execution_count": 28,
   "id": "e1175db6-5cf9-4cd3-af58-569a39379140",
   "metadata": {},
   "outputs": [],
   "source": [
    "h = rnn(x, pack = True, input_len = y_len)\n",
    "h = pack_padded_sequence(h, y_len, batch_first = True).data"
   ]
  },
  {
   "cell_type": "code",
   "execution_count": 29,
   "id": "9dc0d6da-383b-47ed-829e-3886e3bf0d0c",
   "metadata": {},
   "outputs": [],
   "source": [
    "idx = [i for i in range(h.size(0)-1, -1, -1)]\n",
    "idx = Variable(torch.LongTensor(idx))\n",
    "h = h.index_select(0, idx)"
   ]
  },
  {
   "cell_type": "code",
   "execution_count": 30,
   "id": "12afadbb-c999-4df9-a83f-3c9f294a3339",
   "metadata": {},
   "outputs": [],
   "source": [
    "labs_pred = node_pred(h)\n",
    "labs_pred = F.softmax(labs_pred, dim = 1)"
   ]
  },
  {
   "cell_type": "code",
   "execution_count": 31,
   "id": "d6f82eb5-9549-4cd8-bf33-247305c70690",
   "metadata": {},
   "outputs": [],
   "source": [
    "labs_embedded = node_embed(output_labs)\n",
    "hcat = torch.cat((h, labs_embedded), dim = 1)"
   ]
  },
  {
   "cell_type": "code",
   "execution_count": 32,
   "id": "1392413d-3ce9-4b0c-a788-1c840da1a262",
   "metadata": {},
   "outputs": [],
   "source": [
    "hidden_null = Variable(torch.zeros(args.num_layers-1, *hcat.shape))\n",
    "output.hidden = torch.cat((hcat.view(1, *hcat.shape), hidden_null), dim = 0)"
   ]
  },
  {
   "cell_type": "code",
   "execution_count": 33,
   "id": "c9878563-84bd-4c7c-b85e-8b33f1d1bd8e",
   "metadata": {},
   "outputs": [],
   "source": [
    "y_pred = output(output_x, pack = True, input_len = output_y_len)\n",
    "y_pred = torch.sigmoid(y_pred)"
   ]
  },
  {
   "cell_type": "code",
   "execution_count": 34,
   "id": "5c59e7a1-4fc5-4132-aafb-d3abcb99d227",
   "metadata": {},
   "outputs": [
    {
     "data": {
      "text/plain": [
       "torch.Size([3385, 181, 1])"
      ]
     },
     "execution_count": 34,
     "metadata": {},
     "output_type": "execute_result"
    }
   ],
   "source": [
    "y_pred.shape"
   ]
  },
  {
   "cell_type": "code",
   "execution_count": 35,
   "id": "bf4f4fa3-6cdd-47cf-92b4-8977e6ecde90",
   "metadata": {},
   "outputs": [],
   "source": [
    "# so I don't actually think that this code is necessary...\n",
    "# \n",
    "# y_pred = pack_padded_sequence(y_pred, output_y_len, batch_first = True)\n",
    "# y_pred = pad_packed_sequence(y_pred, batch_first = True)[0]\n",
    "# output_y = pack_padded_sequence(output_y, output_y_len, batch_first = True)\n",
    "# output_y = pad_packed_sequence(output_y, batch_first = True)[0]"
   ]
  },
  {
   "cell_type": "code",
   "execution_count": 36,
   "id": "8e901adc-181d-48d1-a1ef-b6fe42da30f6",
   "metadata": {},
   "outputs": [
    {
     "data": {
      "text/plain": [
       "torch.Size([3385, 181, 1])"
      ]
     },
     "execution_count": 36,
     "metadata": {},
     "output_type": "execute_result"
    }
   ],
   "source": [
    "output_y.shape"
   ]
  },
  {
   "cell_type": "code",
   "execution_count": 37,
   "id": "33ad105a-be14-4324-bc16-7535df9d6256",
   "metadata": {},
   "outputs": [
    {
     "data": {
      "text/plain": [
       "tensor(0.7449, grad_fn=<BinaryCrossEntropyBackward0>)"
      ]
     },
     "execution_count": 37,
     "metadata": {},
     "output_type": "execute_result"
    }
   ],
   "source": [
    "loss_y = binary_cross_entropy_weight(y_pred, output_y)\n",
    "loss_y"
   ]
  },
  {
   "cell_type": "code",
   "execution_count": 38,
   "id": "61c889db-ec67-427d-8a79-7589b90da8e8",
   "metadata": {},
   "outputs": [
    {
     "data": {
      "text/plain": [
       "tensor(3.0326, grad_fn=<DivBackward1>)"
      ]
     },
     "execution_count": 38,
     "metadata": {},
     "output_type": "execute_result"
    }
   ],
   "source": [
    "loss_labs = F.cross_entropy(labs_pred, output_labs)\n",
    "loss_labs"
   ]
  },
  {
   "cell_type": "code",
   "execution_count": null,
   "id": "9d7a3997-e311-4a8c-8f7e-f33c739b6de4",
   "metadata": {},
   "outputs": [],
   "source": [
    "# double check that this result is the same as the last one\n",
    "loss_labs2 = F.cross_entropy(labs_pred, output_labs.argmax(dim = 1))\n",
    "loss_labs2"
   ]
  },
  {
   "cell_type": "code",
   "execution_count": 39,
   "id": "cb53cb34-416a-4bba-8832-b0b9ba5c1a96",
   "metadata": {},
   "outputs": [],
   "source": [
    "loss = loss_y + loss_labs\n",
    "loss.backward()"
   ]
  },
  {
   "cell_type": "code",
   "execution_count": 40,
   "id": "b0a23eb2-b932-45d3-8cc0-c41e49f1cb04",
   "metadata": {},
   "outputs": [
    {
     "data": {
      "text/plain": [
       "tensor(3.7775, grad_fn=<AddBackward0>)"
      ]
     },
     "execution_count": 40,
     "metadata": {},
     "output_type": "execute_result"
    }
   ],
   "source": [
    "loss"
   ]
  },
  {
   "cell_type": "markdown",
   "id": "b6541dcd-cd55-41cb-ab24-e9fed26b180e",
   "metadata": {},
   "source": [
    "# Graph prediction\n",
    "\n",
    "Test code in `test_rnn_epoch_nodelabs`, for graph prediction."
   ]
  },
  {
   "cell_type": "code",
   "execution_count": 43,
   "id": "ce60207a-0da2-47d0-a505-d2e24a00efe0",
   "metadata": {},
   "outputs": [],
   "source": [
    "rnn = GRU_plain(\n",
    "    input_size = dataset.max_prev_node, \n",
    "    embedding_size = args.embedding_size_rnn,\n",
    "    hidden_size = args.hidden_size_rnn,\n",
    "    num_layers = args.num_layers, \n",
    "    has_input = True, has_output = True,\n",
    "    output_size = args.hidden_size_rnn_output\n",
    ")         \n",
    "\n",
    "output = GRU_plain(\n",
    "    input_size = 1,\n",
    "    embedding_size = args.embedding_size_rnn_output,\n",
    "    hidden_size = args.hidden_size_rnn_output + args.node_embedding_size,\n",
    "    num_layers = args.num_layers,\n",
    "    has_input = True, has_output = True,\n",
    "    output_size = 1\n",
    ")\n",
    "\n",
    "node_embed = MLP_plain(\n",
    "    h_size = dataset.num_node_labels,\n",
    "    embedding_size = args.node_embedding_size,\n",
    "    y_size = args.node_embedding_size\n",
    ")\n",
    "\n",
    "node_pred = MLP_plain(\n",
    "    h_size = args.hidden_size_rnn_output,\n",
    "    embedding_size = args.node_embedding_size,\n",
    "    y_size = dataset.num_node_labels\n",
    ")"
   ]
  },
  {
   "cell_type": "code",
   "execution_count": 45,
   "id": "fe5fa1bb-4feb-4487-a963-8f5dd42902da",
   "metadata": {},
   "outputs": [],
   "source": [
    "test_batch_size = 16\n",
    "rnn.hidden = Variable(torch.zeros(args.num_layers, test_batch_size, args.hidden_size_rnn))"
   ]
  },
  {
   "cell_type": "code",
   "execution_count": 49,
   "id": "8338ff69-01e3-4396-9b19-4205d5d098e2",
   "metadata": {},
   "outputs": [],
   "source": [
    "max_num_node = 900\n",
    "y_pred_long = Variable(torch.zeros(test_batch_size, max_num_node, dataset.max_prev_node))\n",
    "x_step = Variable(torch.ones(test_batch_size, 1, dataset.max_prev_node))"
   ]
  },
  {
   "cell_type": "code",
   "execution_count": 51,
   "id": "8f288c7a-9fda-4dff-9ed4-87dac28ace9f",
   "metadata": {},
   "outputs": [
    {
     "data": {
      "text/plain": [
       "torch.Size([16, 900, 181])"
      ]
     },
     "execution_count": 51,
     "metadata": {},
     "output_type": "execute_result"
    }
   ],
   "source": [
    "y_pred_long.shape"
   ]
  },
  {
   "cell_type": "code",
   "execution_count": 52,
   "id": "b035e68b-3278-4967-8c44-6a9b27aded6e",
   "metadata": {},
   "outputs": [
    {
     "data": {
      "text/plain": [
       "torch.Size([16, 1, 181])"
      ]
     },
     "execution_count": 52,
     "metadata": {},
     "output_type": "execute_result"
    }
   ],
   "source": [
    "x_step.shape"
   ]
  },
  {
   "cell_type": "code",
   "execution_count": 48,
   "id": "4032aba7-1792-424a-a1dc-26e102bb7e88",
   "metadata": {},
   "outputs": [
    {
     "name": "stdout",
     "output_type": "stream",
     "text": [
      "None\n"
     ]
    }
   ],
   "source": [
    "print(args.max_num_node)"
   ]
  },
  {
   "cell_type": "markdown",
   "id": "9d710651-9459-4d77-85c6-a604ad99964b",
   "metadata": {},
   "source": [
    "# Experimenting with BFS"
   ]
  },
  {
   "cell_type": "code",
   "execution_count": 48,
   "id": "4e04179e-10dc-4646-8b6b-878940cb4515",
   "metadata": {},
   "outputs": [
    {
     "data": {
      "text/plain": [
       "array([[0, 1, 0, 1, 1, 1, 1, 1, 1, 0],\n",
       "       [1, 0, 0, 1, 1, 1, 1, 1, 1, 0],\n",
       "       [1, 0, 1, 1, 0, 1, 1, 1, 1, 0],\n",
       "       [0, 1, 0, 1, 0, 1, 1, 1, 1, 1],\n",
       "       [1, 1, 1, 0, 0, 1, 1, 1, 1, 1],\n",
       "       [1, 0, 1, 0, 1, 1, 0, 1, 1, 0],\n",
       "       [1, 0, 1, 1, 1, 1, 0, 0, 1, 1],\n",
       "       [1, 1, 1, 1, 0, 1, 0, 1, 0, 0],\n",
       "       [1, 1, 1, 1, 0, 1, 0, 1, 1, 1],\n",
       "       [1, 0, 1, 1, 1, 0, 0, 1, 1, 1]])"
      ]
     },
     "execution_count": 48,
     "metadata": {},
     "output_type": "execute_result"
    }
   ],
   "source": [
    "adj = np.random.choice([0, 1], size=(10,10), p = [0.3, 0.7])\n",
    "# adj = np.reshape(np.arange(100), (10,10))\n",
    "adj"
   ]
  },
  {
   "cell_type": "code",
   "execution_count": 49,
   "id": "5847e2e4-79d6-4af5-b151-e04d38b764a2",
   "metadata": {},
   "outputs": [
    {
     "data": {
      "text/plain": [
       "array([[0, 0, 0, 0, 0, 0, 0, 0, 0, 0],\n",
       "       [1, 0, 0, 0, 0, 0, 0, 0, 0, 0],\n",
       "       [1, 0, 0, 0, 0, 0, 0, 0, 0, 0],\n",
       "       [0, 1, 0, 0, 0, 0, 0, 0, 0, 0],\n",
       "       [1, 1, 1, 0, 0, 0, 0, 0, 0, 0],\n",
       "       [1, 0, 1, 0, 1, 0, 0, 0, 0, 0],\n",
       "       [1, 0, 1, 1, 1, 1, 0, 0, 0, 0],\n",
       "       [1, 1, 1, 1, 0, 1, 0, 0, 0, 0],\n",
       "       [1, 1, 1, 1, 0, 1, 0, 1, 0, 0],\n",
       "       [1, 0, 1, 1, 1, 0, 0, 1, 1, 0]])"
      ]
     },
     "execution_count": 49,
     "metadata": {},
     "output_type": "execute_result"
    }
   ],
   "source": [
    "adj = np.tril(adj, k=-1)\n",
    "adj"
   ]
  },
  {
   "cell_type": "code",
   "execution_count": 50,
   "id": "f975938a-dc25-4595-aad7-61f5d813c911",
   "metadata": {},
   "outputs": [
    {
     "data": {
      "text/plain": [
       "array([[1, 0, 0, 0, 0, 0, 0, 0, 0],\n",
       "       [1, 0, 0, 0, 0, 0, 0, 0, 0],\n",
       "       [0, 1, 0, 0, 0, 0, 0, 0, 0],\n",
       "       [1, 1, 1, 0, 0, 0, 0, 0, 0],\n",
       "       [1, 0, 1, 0, 1, 0, 0, 0, 0],\n",
       "       [1, 0, 1, 1, 1, 1, 0, 0, 0],\n",
       "       [1, 1, 1, 1, 0, 1, 0, 0, 0],\n",
       "       [1, 1, 1, 1, 0, 1, 0, 1, 0],\n",
       "       [1, 0, 1, 1, 1, 0, 0, 1, 1]])"
      ]
     },
     "execution_count": 50,
     "metadata": {},
     "output_type": "execute_result"
    }
   ],
   "source": [
    "n = adj.shape[0]\n",
    "adj = adj[1:n, 0:n-1]\n",
    "adj"
   ]
  },
  {
   "cell_type": "code",
   "execution_count": 51,
   "id": "6ec6973f-918f-4ea3-9af7-056c400ef36b",
   "metadata": {},
   "outputs": [
    {
     "name": "stdout",
     "output_type": "stream",
     "text": [
      "row 0\n",
      "input_start: 0\tinput_end: 1\n",
      "output_start: 9\toutput_end: 10\n",
      "row 1\n",
      "input_start: 0\tinput_end: 2\n",
      "output_start: 8\toutput_end: 10\n",
      "row 2\n",
      "input_start: 0\tinput_end: 3\n",
      "output_start: 7\toutput_end: 10\n",
      "row 3\n",
      "input_start: 0\tinput_end: 4\n",
      "output_start: 6\toutput_end: 10\n",
      "row 4\n",
      "input_start: 0\tinput_end: 5\n",
      "output_start: 5\toutput_end: 10\n",
      "row 5\n",
      "input_start: 0\tinput_end: 6\n",
      "output_start: 4\toutput_end: 10\n",
      "row 6\n",
      "input_start: 0\tinput_end: 7\n",
      "output_start: 3\toutput_end: 10\n",
      "row 7\n",
      "input_start: 0\tinput_end: 8\n",
      "output_start: 2\toutput_end: 10\n",
      "row 8\n",
      "input_start: 0\tinput_end: 9\n",
      "output_start: 1\toutput_end: 10\n"
     ]
    }
   ],
   "source": [
    "# use max_prev_node to truncate\n",
    "# note: now adj is a (n-1)*(n-1) matrix\n",
    "max_prev_node = 10\n",
    "adj_output = np.zeros((adj.shape[0], max_prev_node))\n",
    "for i in range(adj.shape[0]):\n",
    "    print(f'row {i}')\n",
    "    input_start = max(0, i - max_prev_node + 1)\n",
    "    input_end = i + 1\n",
    "    print(f'input_start: {input_start}\\tinput_end: {input_end}')\n",
    "    output_start = max_prev_node + input_start - input_end\n",
    "    output_end = max_prev_node\n",
    "    print(f'output_start: {output_start}\\toutput_end: {output_end}')\n",
    "    adj_output[i, output_start:output_end] = adj[i, input_start:input_end]\n",
    "    adj_output[i,:] = adj_output[i,:][::-1] # reverse order"
   ]
  },
  {
   "cell_type": "code",
   "execution_count": 52,
   "id": "290c11e0-3f65-470f-8064-517b044a6149",
   "metadata": {},
   "outputs": [
    {
     "data": {
      "text/plain": [
       "array([[1., 0., 0., 0., 0., 0., 0., 0., 0., 0.],\n",
       "       [0., 1., 0., 0., 0., 0., 0., 0., 0., 0.],\n",
       "       [0., 1., 0., 0., 0., 0., 0., 0., 0., 0.],\n",
       "       [0., 1., 1., 1., 0., 0., 0., 0., 0., 0.],\n",
       "       [1., 0., 1., 0., 1., 0., 0., 0., 0., 0.],\n",
       "       [1., 1., 1., 1., 0., 1., 0., 0., 0., 0.],\n",
       "       [0., 1., 0., 1., 1., 1., 1., 0., 0., 0.],\n",
       "       [1., 0., 1., 0., 1., 1., 1., 1., 0., 0.],\n",
       "       [1., 1., 0., 0., 1., 1., 1., 0., 1., 0.]])"
      ]
     },
     "execution_count": 52,
     "metadata": {},
     "output_type": "execute_result"
    }
   ],
   "source": [
    "adj_output"
   ]
  },
  {
   "cell_type": "code",
   "execution_count": 53,
   "id": "a6cb15e4-96ab-445f-9b31-64f3401e6f79",
   "metadata": {},
   "outputs": [
    {
     "name": "stdout",
     "output_type": "stream",
     "text": [
      "row 0\n",
      "input_start: 0\tinput_end: 1\n",
      "row 1\n",
      "input_start: 0\tinput_end: 2\n",
      "row 2\n",
      "input_start: 1\tinput_end: 3\n",
      "row 3\n",
      "input_start: 1\tinput_end: 4\n",
      "row 4\n",
      "input_start: 2\tinput_end: 5\n",
      "row 5\n",
      "input_start: 2\tinput_end: 6\n",
      "row 6\n",
      "input_start: 2\tinput_end: 7\n",
      "row 7\n",
      "input_start: 2\tinput_end: 8\n",
      "row 8\n",
      "input_start: 2\tinput_end: 9\n"
     ]
    }
   ],
   "source": [
    "adj_output = []\n",
    "input_start = 0\n",
    "for i in range(adj.shape[0]):\n",
    "    print(f'row {i}')\n",
    "    input_end = i + 1\n",
    "    adj_slice = adj[i, input_start:input_end]\n",
    "    adj_output.append(adj_slice)\n",
    "    non_zero = np.nonzero(adj_slice)[0]\n",
    "    input_start = input_end-len(adj_slice)+np.amin(non_zero)\n",
    "    print(f'input_start: {input_start}\\tinput_end: {input_end}')"
   ]
  },
  {
   "cell_type": "code",
   "execution_count": 54,
   "id": "75b4a127-be5e-44d9-9b3a-253d2578457a",
   "metadata": {},
   "outputs": [
    {
     "data": {
      "text/plain": [
       "[array([1]),\n",
       " array([1, 0]),\n",
       " array([0, 1, 0]),\n",
       " array([1, 1, 0]),\n",
       " array([0, 1, 0, 1]),\n",
       " array([1, 1, 1, 1]),\n",
       " array([1, 1, 0, 1, 0]),\n",
       " array([1, 1, 0, 1, 0, 1]),\n",
       " array([1, 1, 1, 0, 0, 1, 1])]"
      ]
     },
     "execution_count": 54,
     "metadata": {},
     "output_type": "execute_result"
    }
   ],
   "source": [
    "adj_output"
   ]
  },
  {
   "cell_type": "code",
   "execution_count": null,
   "id": "1b8d98c9-94ce-46df-b6e6-9d26d0da51b7",
   "metadata": {},
   "outputs": [],
   "source": []
  }
 ],
 "metadata": {
  "kernelspec": {
   "display_name": "Python 3 (ipykernel)",
   "language": "python",
   "name": "python3"
  },
  "language_info": {
   "codemirror_mode": {
    "name": "ipython",
    "version": 3
   },
   "file_extension": ".py",
   "mimetype": "text/x-python",
   "name": "python",
   "nbconvert_exporter": "python",
   "pygments_lexer": "ipython3",
   "version": "3.10.6"
  }
 },
 "nbformat": 4,
 "nbformat_minor": 5
}
